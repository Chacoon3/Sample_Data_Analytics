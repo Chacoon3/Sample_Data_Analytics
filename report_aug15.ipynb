{
 "cells": [
  {
   "cell_type": "markdown",
   "metadata": {},
   "source": [
    "#### Scoring of Foodcenter\n",
    "\n",
    "Simulation strategy is evaluated by a single real-valued monetary metric."
   ]
  }
 ],
 "metadata": {
  "language_info": {
   "name": "python"
  },
  "orig_nbformat": 4
 },
 "nbformat": 4,
 "nbformat_minor": 2
}
