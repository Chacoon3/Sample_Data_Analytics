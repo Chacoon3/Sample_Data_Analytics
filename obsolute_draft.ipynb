{
 "cells": [
  {
   "cell_type": "code",
   "execution_count": 1,
   "metadata": {},
   "outputs": [],
   "source": [
    "import numpy as np\n",
    "import pandas    as pd "
   ]
  },
  {
   "cell_type": "code",
   "execution_count": 2,
   "metadata": {},
   "outputs": [],
   "source": [
    "v = pd.read_csv(\n",
    "                r'C:\\\\Users\\\\Chaconne\\\\Documents\\\\学业\\\\Projects\\\\RA_Simulation\\\\app_server\\\\config\\\\case_food_center_cov_matrix.csv',\n",
    "                index_col='center_id').values"
   ]
  },
  {
   "cell_type": "code",
   "execution_count": 4,
   "metadata": {},
   "outputs": [
    {
     "data": {
      "text/plain": [
       "array([ 1.13652995e+05, -3.74650106e+04,  1.52242514e+02,  1.02769076e+02,\n",
       "        3.20117012e+04,  8.90385247e+01])"
      ]
     },
     "execution_count": 4,
     "metadata": {},
     "output_type": "execute_result"
    }
   ],
   "source": [
    "v[0]"
   ]
  },
  {
   "cell_type": "code",
   "execution_count": 11,
   "metadata": {},
   "outputs": [],
   "source": [
    "v2 = np.array([\n",
    "    [113652.9946,\t-37465.01062,\t152.2425135,\t102.7690763,\t32011.70125,\t89.03852468],\n",
    "    [-37465.01062,\t137223.4483,\t100715.5776,\t111.7531877,\t-23449.91204,\t103.1471614],\n",
    "    [152.2425135,\t100715.5776,\t295682.0494,\t151.5108562,\t134.5415465,\t-75566.93011],\n",
    "    [102.7690763,\t111.7531877,\t151.5108562,\t137073.65,\t101.4975821,\t94.87283555],\n",
    "    [32011.70125,\t-23449.91204,\t134.5415465,\t101.4975821,\t100183.0197,\t91.92860568],\n",
    "    [89.03852468,\t103.1471614,\t-75566.93011,\t94.87283555,\t91.92860568,\t120703.1537]\n",
    "])"
   ]
  },
  {
   "cell_type": "code",
   "execution_count": 12,
   "metadata": {},
   "outputs": [
    {
     "data": {
      "text/plain": [
       "array([ True,  True,  True,  True,  True,  True])"
      ]
     },
     "execution_count": 12,
     "metadata": {},
     "output_type": "execute_result"
    }
   ],
   "source": [
    "v2[0] == v[0]"
   ]
  },
  {
   "cell_type": "code",
   "execution_count": 12,
   "metadata": {},
   "outputs": [
    {
     "data": {
      "text/plain": [
       "([[2, 4, 8], [2, 4, 8], [2, 4, 8], [2, 4, 8], [2, 4, 8]], True)"
      ]
     },
     "execution_count": 12,
     "metadata": {},
     "output_type": "execute_result"
    }
   ],
   "source": [
    "d = {'1':2, '3':4, '7':8}\n",
    "\n",
    "\n",
    "seq = []\n",
    "for i in range(1000):\n",
    "    it_res = []\n",
    "    for k in d.values():\n",
    "        it_res.append(k)\n",
    "    seq.append(it_res)\n",
    "\n",
    "same = True\n",
    "for i in range(1, len(seq)):\n",
    "    same = seq[i - 1] == seq[i]\n",
    "\n",
    "seq[:5], same"
   ]
  },
  {
   "cell_type": "code",
   "execution_count": 19,
   "metadata": {},
   "outputs": [
    {
     "data": {
      "text/plain": [
       "dict_values"
      ]
     },
     "execution_count": 19,
     "metadata": {},
     "output_type": "execute_result"
    }
   ],
   "source": [
    "type(d.values())"
   ]
  },
  {
   "cell_type": "code",
   "execution_count": 35,
   "metadata": {},
   "outputs": [
    {
     "data": {
      "text/plain": [
       "array([2, 2, 2])"
      ]
     },
     "execution_count": 35,
     "metadata": {},
     "output_type": "execute_result"
    }
   ],
   "source": [
    "\n",
    "\n",
    "round(0.9)\n",
    "\n",
    "l = [2] * 3 \n",
    "l2 = np.repeat(-1,3)\n",
    "np.fmax(l, -1)"
   ]
  },
  {
   "cell_type": "code",
   "execution_count": 36,
   "metadata": {},
   "outputs": [
    {
     "data": {
      "text/plain": [
       "{'1': [], '2': 333, 4: 0}"
      ]
     },
     "execution_count": 36,
     "metadata": {},
     "output_type": "execute_result"
    }
   ],
   "source": [
    "{'1':[], '2':333, 4:0}"
   ]
  },
  {
   "cell_type": "code",
   "execution_count": null,
   "metadata": {},
   "outputs": [],
   "source": []
  }
 ],
 "metadata": {
  "kernelspec": {
   "display_name": "Python 3.10.4 64-bit",
   "language": "python",
   "name": "python3"
  },
  "language_info": {
   "codemirror_mode": {
    "name": "ipython",
    "version": 3
   },
   "file_extension": ".py",
   "mimetype": "text/x-python",
   "name": "python",
   "nbconvert_exporter": "python",
   "pygments_lexer": "ipython3",
   "version": "3.10.4"
  },
  "orig_nbformat": 4,
  "vscode": {
   "interpreter": {
    "hash": "26de051ba29f2982a8de78e945f0abaf191376122a1563185a90213a26c5da77"
   }
  }
 },
 "nbformat": 4,
 "nbformat_minor": 2
}
